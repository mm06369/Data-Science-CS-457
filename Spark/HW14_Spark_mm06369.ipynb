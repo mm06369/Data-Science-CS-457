{
  "cells": [
    {
      "cell_type": "markdown",
      "source": [
        "### Muhammad mm06369"
      ],
      "metadata": {
        "application/vnd.databricks.v1+cell": {
          "title": "",
          "showTitle": false,
          "inputWidgets": {},
          "nuid": "998874f6-f184-424a-82bc-95c959ac5de0"
        },
        "id": "is7GfjTZ0xNW"
      }
    },
    {
      "cell_type": "code",
      "source": [
        "!pip install pyspark"
      ],
      "metadata": {
        "colab": {
          "base_uri": "https://localhost:8080/"
        },
        "id": "4hOtzMqk2lgd",
        "outputId": "f83e6356-93fc-4aa3-babe-259129976eb5"
      },
      "execution_count": 36,
      "outputs": [
        {
          "output_type": "stream",
          "name": "stdout",
          "text": [
            "Requirement already satisfied: pyspark in /usr/local/lib/python3.10/dist-packages (3.5.0)\n",
            "Requirement already satisfied: py4j==0.10.9.7 in /usr/local/lib/python3.10/dist-packages (from pyspark) (0.10.9.7)\n"
          ]
        }
      ]
    },
    {
      "cell_type": "code",
      "source": [
        "from pyspark import SparkConf, SparkContext\n",
        "from pyspark.sql import SQLContext, SparkSession\n",
        "\n",
        "#sc is the Spark Context already available at databricks, so we do not need to create it again.\n",
        "#sc = SparkContext()\n",
        "# sqlContext = SQLContext(sc)\n",
        "\n",
        "# from pyspark.sql import SparkSession\n",
        "sqlContext = SparkSession.builder.appName('abc').getOrCreate()\n",
        "sc = sqlContext.sparkContext"
      ],
      "metadata": {
        "application/vnd.databricks.v1+cell": {
          "title": "",
          "showTitle": false,
          "inputWidgets": {},
          "nuid": "995767c2-8fbe-4a7d-80ac-3109c45de204"
        },
        "id": "C783qux_0xNd"
      },
      "outputs": [],
      "execution_count": 37
    },
    {
      "cell_type": "markdown",
      "source": [
        "# Creating RDD (Resilient Distributed Dataset) - fundamental data structure of Spark"
      ],
      "metadata": {
        "application/vnd.databricks.v1+cell": {
          "title": "",
          "showTitle": false,
          "inputWidgets": {},
          "nuid": "dad83ce3-0a95-468b-be6b-eeb20a725806"
        },
        "id": "9pZRrXEY0xNh"
      }
    },
    {
      "cell_type": "code",
      "source": [
        "products = sc.textFile(\"SalesData-1.txt\")"
      ],
      "metadata": {
        "application/vnd.databricks.v1+cell": {
          "title": "",
          "showTitle": false,
          "inputWidgets": {},
          "nuid": "85a92d7d-862a-43da-a8e8-c1505a52225f"
        },
        "id": "jzIiN32I0xNi"
      },
      "outputs": [],
      "execution_count": 38
    },
    {
      "cell_type": "code",
      "source": [
        "products.first()"
      ],
      "metadata": {
        "application/vnd.databricks.v1+cell": {
          "title": "",
          "showTitle": false,
          "inputWidgets": {},
          "nuid": "2aa738f2-f4d1-4901-aad0-d5a8ee807c89"
        },
        "colab": {
          "base_uri": "https://localhost:8080/",
          "height": 53
        },
        "id": "28cnc9wU0xNk",
        "outputId": "76d37806-84ba-42ba-e90f-18aa00390997"
      },
      "outputs": [
        {
          "output_type": "execute_result",
          "data": {
            "text/plain": [
              "'ProductID\\tName\\tProductNumber\\tColor\\tStandardCost\\tListPrice\\tSize\\tWeight\\tProductCategoryID\\tProductModelID\\tSellStartDate\\tSellEndDate\\tDiscontinuedDate\\tThumbNailPhoto\\tThumbnailPhotoFileName\\trowguid\\tModifiedDate'"
            ],
            "application/vnd.google.colaboratory.intrinsic+json": {
              "type": "string"
            }
          },
          "metadata": {},
          "execution_count": 39
        }
      ],
      "execution_count": 39
    },
    {
      "cell_type": "code",
      "source": [
        "print(\"The data has {} columns\".format(len(products.first().split(\"\\t\"))))\n",
        "header = products.first().split(\"\\t\")\n",
        "header"
      ],
      "metadata": {
        "application/vnd.databricks.v1+cell": {
          "title": "",
          "showTitle": false,
          "inputWidgets": {},
          "nuid": "1d226610-9a0e-4915-9861-82c2b2163b0c"
        },
        "colab": {
          "base_uri": "https://localhost:8080/"
        },
        "id": "T7eq78-F0xNo",
        "outputId": "79d7bc5a-551d-4c63-aa8c-38a01633edcf"
      },
      "outputs": [
        {
          "output_type": "stream",
          "name": "stdout",
          "text": [
            "The data has 17 columns\n"
          ]
        },
        {
          "output_type": "execute_result",
          "data": {
            "text/plain": [
              "['ProductID',\n",
              " 'Name',\n",
              " 'ProductNumber',\n",
              " 'Color',\n",
              " 'StandardCost',\n",
              " 'ListPrice',\n",
              " 'Size',\n",
              " 'Weight',\n",
              " 'ProductCategoryID',\n",
              " 'ProductModelID',\n",
              " 'SellStartDate',\n",
              " 'SellEndDate',\n",
              " 'DiscontinuedDate',\n",
              " 'ThumbNailPhoto',\n",
              " 'ThumbnailPhotoFileName',\n",
              " 'rowguid',\n",
              " 'ModifiedDate']"
            ]
          },
          "metadata": {},
          "execution_count": 40
        }
      ],
      "execution_count": 40
    },
    {
      "cell_type": "code",
      "source": [
        "head = products.first()\n",
        "content = products.filter(lambda line: line != head)"
      ],
      "metadata": {
        "application/vnd.databricks.v1+cell": {
          "title": "",
          "showTitle": false,
          "inputWidgets": {},
          "nuid": "ae301838-99e7-4a98-9531-f399521e6e46"
        },
        "id": "76YbpwJb0xNp"
      },
      "outputs": [],
      "execution_count": 41
    },
    {
      "cell_type": "code",
      "source": [
        "content.first()"
      ],
      "metadata": {
        "application/vnd.databricks.v1+cell": {
          "title": "",
          "showTitle": false,
          "inputWidgets": {},
          "nuid": "b25629db-cfa9-4fd9-93fb-a1dc0fe5a044"
        },
        "colab": {
          "base_uri": "https://localhost:8080/",
          "height": 70
        },
        "id": "RypSz6nH0xNq",
        "outputId": "3c0b8f5a-fc9d-43ba-e8ed-c452ae35145a"
      },
      "outputs": [
        {
          "output_type": "execute_result",
          "data": {
            "text/plain": [
              "'680\\tHL Road Frame - Black, 58\\tFR-R92B-58\\tBlack\\t1059.31\\t1431.50\\t58\\t1016.04\\t18\\t6\\t1998-06-01 00:00:00.000\\tNULL\\tNULL\\t0x47494638396150003100F70000000000800000008000808000000080800080008080808080C0C0C0FF000000FF00FFFF000000FFFF00FF00FFFFFFFFFF000000000000000000000000000000000000000000000000000000000000000000000000000000000000000000000000000000000000000000000000000000000000\\tno_image_available_small.gif\\t43DD68D6-14A4-461F-9069-55309D90EA7E\\t2004-03-11 10:01:36.827'"
            ],
            "application/vnd.google.colaboratory.intrinsic+json": {
              "type": "string"
            }
          },
          "metadata": {},
          "execution_count": 42
        }
      ],
      "execution_count": 42
    },
    {
      "cell_type": "code",
      "source": [
        "content.map(lambda line: len(line.split(\"\\t\"))).distinct().collect()[0]"
      ],
      "metadata": {
        "application/vnd.databricks.v1+cell": {
          "title": "",
          "showTitle": false,
          "inputWidgets": {},
          "nuid": "7c6477b3-ae17-40c9-ad94-e226c1d96a67"
        },
        "colab": {
          "base_uri": "https://localhost:8080/"
        },
        "id": "btGweJJu0xNr",
        "outputId": "2ad9f818-48af-49d8-8e08-c7d61b12fc68"
      },
      "outputs": [
        {
          "output_type": "execute_result",
          "data": {
            "text/plain": [
              "17"
            ]
          },
          "metadata": {},
          "execution_count": 43
        }
      ],
      "execution_count": 43
    },
    {
      "cell_type": "markdown",
      "source": [
        "# Example of RDD using Scala"
      ],
      "metadata": {
        "application/vnd.databricks.v1+cell": {
          "title": "",
          "showTitle": false,
          "inputWidgets": {},
          "nuid": "a3097865-16c7-4069-bf6b-b61d2a71ced9"
        },
        "id": "RjrNTqJH0xNt"
      }
    },
    {
      "cell_type": "code",
      "source": [
        "rdd1 = (content.filter(lambda line: line.split(\"\\t\"))\n",
        " .map(lambda line: (line.split(\"\\t\")))\n",
        ")\n",
        "rdd1.take(1)"
      ],
      "metadata": {
        "application/vnd.databricks.v1+cell": {
          "title": "",
          "showTitle": false,
          "inputWidgets": {},
          "nuid": "fd3e1c26-ea05-4ffb-b91d-6ef5936864db"
        },
        "colab": {
          "base_uri": "https://localhost:8080/"
        },
        "id": "E-hQmJrz0xNu",
        "outputId": "2958d627-8757-4a61-db92-5f08bb2dae9c"
      },
      "outputs": [
        {
          "output_type": "execute_result",
          "data": {
            "text/plain": [
              "[['680',\n",
              "  'HL Road Frame - Black, 58',\n",
              "  'FR-R92B-58',\n",
              "  'Black',\n",
              "  '1059.31',\n",
              "  '1431.50',\n",
              "  '58',\n",
              "  '1016.04',\n",
              "  '18',\n",
              "  '6',\n",
              "  '1998-06-01 00:00:00.000',\n",
              "  'NULL',\n",
              "  'NULL',\n",
              "  '0x47494638396150003100F70000000000800000008000808000000080800080008080808080C0C0C0FF000000FF00FFFF000000FFFF00FF00FFFFFFFFFF000000000000000000000000000000000000000000000000000000000000000000000000000000000000000000000000000000000000000000000000000000000000',\n",
              "  'no_image_available_small.gif',\n",
              "  '43DD68D6-14A4-461F-9069-55309D90EA7E',\n",
              "  '2004-03-11 10:01:36.827']]"
            ]
          },
          "metadata": {},
          "execution_count": 44
        }
      ],
      "execution_count": 44
    },
    {
      "cell_type": "markdown",
      "source": [
        "# Converting RDD into Spark Dataframe"
      ],
      "metadata": {
        "application/vnd.databricks.v1+cell": {
          "title": "",
          "showTitle": false,
          "inputWidgets": {},
          "nuid": "a105419c-a4d8-4fee-a173-8a25b774998c"
        },
        "id": "sJ5pgY0D0xNv"
      }
    },
    {
      "cell_type": "code",
      "source": [
        "df = rdd1.toDF(header)\n",
        "df.show()"
      ],
      "metadata": {
        "application/vnd.databricks.v1+cell": {
          "title": "",
          "showTitle": false,
          "inputWidgets": {},
          "nuid": "9a3f50ec-faaf-4aae-975c-5eeb4b1f66d6"
        },
        "colab": {
          "base_uri": "https://localhost:8080/"
        },
        "id": "lWacsbP-0xNv",
        "outputId": "d60ddfc2-d9c9-4239-c006-734ada59c983"
      },
      "outputs": [
        {
          "output_type": "stream",
          "name": "stdout",
          "text": [
            "+---------+--------------------+-------------+-----+------------+---------+----+-------+-----------------+--------------+--------------------+--------------------+----------------+--------------------+----------------------+--------------------+--------------------+\n",
            "|ProductID|                Name|ProductNumber|Color|StandardCost|ListPrice|Size| Weight|ProductCategoryID|ProductModelID|       SellStartDate|         SellEndDate|DiscontinuedDate|      ThumbNailPhoto|ThumbnailPhotoFileName|             rowguid|        ModifiedDate|\n",
            "+---------+--------------------+-------------+-----+------------+---------+----+-------+-----------------+--------------+--------------------+--------------------+----------------+--------------------+----------------------+--------------------+--------------------+\n",
            "|      680|HL Road Frame - B...|   FR-R92B-58|Black|     1059.31|  1431.50|  58|1016.04|               18|             6|1998-06-01 00:00:...|                NULL|            NULL|0x474946383961500...|  no_image_availabl...|43DD68D6-14A4-461...|2004-03-11 10:01:...|\n",
            "|      706|HL Road Frame - R...|   FR-R92R-58|  Red|     1059.31|  1431.50|  58|1016.04|               18|             6|1998-06-01 00:00:...|                NULL|            NULL|0x474946383961500...|  no_image_availabl...|9540FF17-2712-4C9...|2004-03-11 10:01:...|\n",
            "|      707|Sport-100 Helmet,...|    HL-U509-R|  Red|     13.0863|    34.99|NULL|   NULL|               35|            33|2001-07-01 00:00:...|                NULL|            NULL|0x474946383961500...|  no_image_availabl...|2E1EF41A-C08A-4FF...|2004-03-11 10:01:...|\n",
            "|      708|Sport-100 Helmet,...|      HL-U509|Black|     13.0863|    34.99|NULL|   NULL|               35|            33|2001-07-01 00:00:...|                NULL|            NULL|0x474946383961500...|  no_image_availabl...|A25A44FB-C2DE-426...|2004-03-11 10:01:...|\n",
            "|      709|Mountain Bike Soc...|    SO-B909-M|White|      3.3963|     9.50|   M|   NULL|               27|            18|2001-07-01 00:00:...|2002-06-30 00:00:...|            NULL|0x474946383961500...|  no_image_availabl...|18F95F47-1540-4E0...|2004-03-11 10:01:...|\n",
            "|      710|Mountain Bike Soc...|    SO-B909-L|White|      3.3963|     9.50|   L|   NULL|               27|            18|2001-07-01 00:00:...|2002-06-30 00:00:...|            NULL|0x474946383961500...|  no_image_availabl...|161C035E-21B3-4E1...|2004-03-11 10:01:...|\n",
            "|      711|Sport-100 Helmet,...|    HL-U509-B| Blue|     13.0863|    34.99|NULL|   NULL|               35|            33|2001-07-01 00:00:...|                NULL|            NULL|0x474946383961500...|  no_image_availabl...|FD7C0858-4179-48C...|2004-03-11 10:01:...|\n",
            "|      712|        AWC Logo Cap|      CA-1098|Multi|      6.9223|     8.99|NULL|   NULL|               23|             2|2001-07-01 00:00:...|                NULL|            NULL|0x474946383961500...|  no_image_availabl...|B9EDE243-A6F4-462...|2004-03-11 10:01:...|\n",
            "|      713|Long-Sleeve Logo ...|    LJ-0192-S|Multi|     38.4923|    49.99|   S|   NULL|               25|            11|2001-07-01 00:00:...|                NULL|            NULL|0x474946383961500...|  awc_jersey_male_s...|FD449C82-A259-4FA...|2004-03-11 10:01:...|\n",
            "|      714|Long-Sleeve Logo ...|    LJ-0192-M|Multi|     38.4923|    49.99|   M|   NULL|               25|            11|2001-07-01 00:00:...|                NULL|            NULL|0x474946383961500...|  awc_jersey_male_s...|6A290063-A0CF-432...|2004-03-11 10:01:...|\n",
            "|      715|Long-Sleeve Logo ...|    LJ-0192-L|Multi|     38.4923|    49.99|   L|   NULL|               25|            11|2001-07-01 00:00:...|                NULL|            NULL|0x474946383961500...|  awc_jersey_male_s...|34CF5EF5-C077-4EA...|2004-03-11 10:01:...|\n",
            "|      716|Long-Sleeve Logo ...|    LJ-0192-X|Multi|     38.4923|    49.99|  XL|   NULL|               25|            11|2001-07-01 00:00:...|                NULL|            NULL|0x474946383961500...|  awc_jersey_male_s...|6EC47EC9-C041-4DD...|2004-03-11 10:01:...|\n",
            "|      717|HL Road Frame - R...|   FR-R92R-62|  Red|    868.6342|  1431.50|  62|1043.26|               18|             6|2001-07-01 00:00:...|                NULL|            NULL|0x474946383961500...|  no_image_availabl...|052E4F8B-0A2A-46B...|2004-03-11 10:01:...|\n",
            "|      718|HL Road Frame - R...|   FR-R92R-44|  Red|    868.6342|  1431.50|  44| 961.61|               18|             6|2001-07-01 00:00:...|                NULL|            NULL|0x474946383961500...|  no_image_availabl...|A88D3B54-2CAE-43F...|2004-03-11 10:01:...|\n",
            "|      719|HL Road Frame - R...|   FR-R92R-48|  Red|    868.6342|  1431.50|  48| 979.75|               18|             6|2001-07-01 00:00:...|                NULL|            NULL|0x474946383961500...|  no_image_availabl...|07BEFC9A-7634-402...|2004-03-11 10:01:...|\n",
            "|      720|HL Road Frame - R...|   FR-R92R-52|  Red|    868.6342|  1431.50|  52| 997.90|               18|             6|2001-07-01 00:00:...|                NULL|            NULL|0x474946383961500...|  no_image_availabl...|FCFEA68F-310E-4E6...|2004-03-11 10:01:...|\n",
            "|      721|HL Road Frame - R...|   FR-R92R-56|  Red|    868.6342|  1431.50|  56|1016.04|               18|             6|2001-07-01 00:00:...|                NULL|            NULL|0x474946383961500...|  no_image_availabl...|56C85873-4993-41B...|2004-03-11 10:01:...|\n",
            "|      722|LL Road Frame - B...|   FR-R38B-58|Black|    204.6251|   337.22|  58|1115.83|               18|             9|2001-07-01 00:00:...|                NULL|            NULL|0x474946383961500...|  no_image_availabl...|2140F256-F705-4D6...|2004-03-11 10:01:...|\n",
            "|      723|LL Road Frame - B...|   FR-R38B-60|Black|    204.6251|   337.22|  60|1124.90|               18|             9|2001-07-01 00:00:...|                NULL|            NULL|0x474946383961500...|  no_image_availabl...|AA95E2A5-E7C4-4B7...|2004-03-11 10:01:...|\n",
            "|      724|LL Road Frame - B...|   FR-R38B-62|Black|    204.6251|   337.22|  62|1133.98|               18|             9|2001-07-01 00:00:...|                NULL|            NULL|0x474946383961500...|  no_image_availabl...|5247BE33-50BF-452...|2004-03-11 10:01:...|\n",
            "+---------+--------------------+-------------+-----+------------+---------+----+-------+-----------------+--------------+--------------------+--------------------+----------------+--------------------+----------------------+--------------------+--------------------+\n",
            "only showing top 20 rows\n",
            "\n"
          ]
        }
      ],
      "execution_count": 45
    },
    {
      "cell_type": "markdown",
      "source": [
        "# Using Spark Dataframe syntax and SQL Table syntax"
      ],
      "metadata": {
        "application/vnd.databricks.v1+cell": {
          "title": "",
          "showTitle": false,
          "inputWidgets": {},
          "nuid": "fb282bbf-f4b2-4299-9c07-9b978bce0169"
        },
        "id": "TkqpxMK-0xNw"
      }
    },
    {
      "cell_type": "code",
      "source": [
        "# selecting two columns Name and Weight from original dataframe and convert into their proper datatype. Default is string\n",
        "df1 = df.select(df.Name, df.Weight.cast(\"float\"))\n",
        "df1.show(5, truncate=False)"
      ],
      "metadata": {
        "application/vnd.databricks.v1+cell": {
          "title": "",
          "showTitle": false,
          "inputWidgets": {},
          "nuid": "fae7aa88-69b3-42fe-b863-c890bb7975eb"
        },
        "colab": {
          "base_uri": "https://localhost:8080/"
        },
        "id": "jpKTYw4X0xNx",
        "outputId": "3a67aa3e-df44-4a0a-b3fb-2996949e35c7"
      },
      "outputs": [
        {
          "output_type": "stream",
          "name": "stdout",
          "text": [
            "+-------------------------+-------+\n",
            "|Name                     |Weight |\n",
            "+-------------------------+-------+\n",
            "|HL Road Frame - Black, 58|1016.04|\n",
            "|HL Road Frame - Red, 58  |1016.04|\n",
            "|Sport-100 Helmet, Red    |NULL   |\n",
            "|Sport-100 Helmet, Black  |NULL   |\n",
            "|Mountain Bike Socks, M   |NULL   |\n",
            "+-------------------------+-------+\n",
            "only showing top 5 rows\n",
            "\n"
          ]
        }
      ],
      "execution_count": 46
    },
    {
      "cell_type": "code",
      "source": [
        "# convert the above Dataframe into SQL Table\n",
        "df1.createOrReplaceTempView(\"df_table\")\n",
        "sqlContext.sql(\" SELECT * FROM df_table limit 5\").show(truncate=False)"
      ],
      "metadata": {
        "application/vnd.databricks.v1+cell": {
          "title": "",
          "showTitle": false,
          "inputWidgets": {},
          "nuid": "ba37d163-0abd-47ac-a2dd-609382697ca7"
        },
        "colab": {
          "base_uri": "https://localhost:8080/"
        },
        "id": "VDBXSQMm0xNy",
        "outputId": "eea0a4df-1183-451e-d7a0-70d4d3a8a672"
      },
      "outputs": [
        {
          "output_type": "stream",
          "name": "stdout",
          "text": [
            "+-------------------------+-------+\n",
            "|Name                     |Weight |\n",
            "+-------------------------+-------+\n",
            "|HL Road Frame - Black, 58|1016.04|\n",
            "|HL Road Frame - Red, 58  |1016.04|\n",
            "|Sport-100 Helmet, Red    |NULL   |\n",
            "|Sport-100 Helmet, Black  |NULL   |\n",
            "|Mountain Bike Socks, M   |NULL   |\n",
            "+-------------------------+-------+\n",
            "\n"
          ]
        }
      ],
      "execution_count": 47
    },
    {
      "cell_type": "markdown",
      "source": [
        "# Write your solution for Spark Dataframe and Spark SQL. Your output should match with the RDD output"
      ],
      "metadata": {
        "application/vnd.databricks.v1+cell": {
          "title": "",
          "showTitle": false,
          "inputWidgets": {},
          "nuid": "69d4323b-c498-4abe-b321-1a62cd627ed8"
        },
        "id": "qqaGVSoG0xNz"
      }
    },
    {
      "cell_type": "markdown",
      "source": [
        "## 1. Find the names and weight of the top 15 products by weight. Sort weight by descending order."
      ],
      "metadata": {
        "application/vnd.databricks.v1+cell": {
          "title": "",
          "showTitle": false,
          "inputWidgets": {},
          "nuid": "6019e613-c169-4946-923d-2d87ba1ce274"
        },
        "id": "RQvkc3Wk0xN0"
      }
    },
    {
      "cell_type": "markdown",
      "source": [
        "### Using RDD"
      ],
      "metadata": {
        "application/vnd.databricks.v1+cell": {
          "title": "",
          "showTitle": false,
          "inputWidgets": {},
          "nuid": "cf59b76e-c51a-4445-9d49-eb6dc0c6ad00"
        },
        "id": "-ns8YUWW0xN1"
      }
    },
    {
      "cell_type": "code",
      "source": [
        "(content.filter(lambda line: line.split(\"\\t\")[7] != \"NULL\")\n",
        " .map(lambda line: (line.split(\"\\t\")[1], float(line.split(\"\\t\")[7])))\n",
        "                     .takeOrdered(15, lambda x : -x[1])\n",
        "                    )"
      ],
      "metadata": {
        "application/vnd.databricks.v1+cell": {
          "title": "",
          "showTitle": false,
          "inputWidgets": {},
          "nuid": "728d67e4-bc29-4991-a999-154e1450fbf6"
        },
        "colab": {
          "base_uri": "https://localhost:8080/"
        },
        "id": "GreN_nYk0xN1",
        "outputId": "4e2ec89c-0161-427a-968d-e43290d5d570"
      },
      "outputs": [
        {
          "output_type": "execute_result",
          "data": {
            "text/plain": [
              "[('Touring-3000 Blue, 62', 13607.7),\n",
              " ('Touring-3000 Yellow, 62', 13607.7),\n",
              " ('Touring-3000 Blue, 58', 13562.34),\n",
              " ('Touring-3000 Yellow, 58', 13512.45),\n",
              " ('Touring-3000 Blue, 54', 13462.55),\n",
              " ('Touring-3000 Yellow, 54', 13344.62),\n",
              " ('Touring-3000 Yellow, 50', 13213.08),\n",
              " ('Touring-3000 Blue, 50', 13213.08),\n",
              " ('Touring-3000 Yellow, 44', 13049.78),\n",
              " ('Touring-3000 Blue, 44', 13049.78),\n",
              " ('Mountain-500 Silver, 52', 13008.96),\n",
              " ('Mountain-500 Black, 52', 13008.96),\n",
              " ('Mountain-500 Silver, 48', 12891.03),\n",
              " ('Mountain-500 Black, 48', 12891.03),\n",
              " ('Mountain-500 Silver, 44', 12759.49)]"
            ]
          },
          "metadata": {},
          "execution_count": 48
        }
      ],
      "execution_count": 48
    },
    {
      "cell_type": "markdown",
      "source": [
        "### Using Spark DataFrame"
      ],
      "metadata": {
        "application/vnd.databricks.v1+cell": {
          "title": "",
          "showTitle": false,
          "inputWidgets": {},
          "nuid": "9908f57f-848d-49c8-a3c9-5040d1e35a32"
        },
        "id": "xC6HDA8v0xN3"
      }
    },
    {
      "cell_type": "code",
      "source": [
        "df1 = df.select(df.Name,df.Weight.cast('float'))\n",
        "df1_ = df1.sort(df1.Weight, ascending = False)\n",
        "df1_.show(15)"
      ],
      "metadata": {
        "application/vnd.databricks.v1+cell": {
          "title": "",
          "showTitle": false,
          "inputWidgets": {},
          "nuid": "16c097bd-6deb-4dd6-967c-98b4a32c89dd"
        },
        "colab": {
          "base_uri": "https://localhost:8080/"
        },
        "id": "pTmaI08L0xN3",
        "outputId": "2b369c42-6cf1-40e8-f7eb-4e673327d202"
      },
      "outputs": [
        {
          "output_type": "stream",
          "name": "stdout",
          "text": [
            "+--------------------+--------+\n",
            "|                Name|  Weight|\n",
            "+--------------------+--------+\n",
            "|Touring-3000 Blue...| 13607.7|\n",
            "|Touring-3000 Yell...| 13607.7|\n",
            "|Touring-3000 Blue...|13562.34|\n",
            "|Touring-3000 Yell...|13512.45|\n",
            "|Touring-3000 Blue...|13462.55|\n",
            "|Touring-3000 Yell...|13344.62|\n",
            "|Touring-3000 Yell...|13213.08|\n",
            "|Touring-3000 Blue...|13213.08|\n",
            "|Touring-3000 Yell...|13049.78|\n",
            "|Touring-3000 Blue...|13049.78|\n",
            "|Mountain-500 Silv...|13008.96|\n",
            "|Mountain-500 Blac...|13008.96|\n",
            "|Mountain-500 Silv...|12891.03|\n",
            "|Mountain-500 Blac...|12891.03|\n",
            "|Mountain-500 Silv...|12759.49|\n",
            "+--------------------+--------+\n",
            "only showing top 15 rows\n",
            "\n"
          ]
        }
      ],
      "execution_count": 49
    },
    {
      "cell_type": "markdown",
      "source": [
        "### Using Spark SQL"
      ],
      "metadata": {
        "application/vnd.databricks.v1+cell": {
          "title": "",
          "showTitle": false,
          "inputWidgets": {},
          "nuid": "d1aee5df-1ab5-4a8d-a36c-1ae78c3d1195"
        },
        "id": "sCkj5Y3d0xN4"
      }
    },
    {
      "cell_type": "code",
      "source": [
        "df1.createOrReplaceTempView(\"df_table\")\n",
        "sqlContext.sql(\"SELECT Name, Weight FROM df_table ORDER BY df_table.Weight Desc LIMIT 15\").show()"
      ],
      "metadata": {
        "application/vnd.databricks.v1+cell": {
          "title": "",
          "showTitle": false,
          "inputWidgets": {},
          "nuid": "dc945e57-6428-4d09-b227-b875758c36f9"
        },
        "colab": {
          "base_uri": "https://localhost:8080/"
        },
        "id": "j7W8LohS0xN4",
        "outputId": "e7202483-6b89-40b4-c7fe-842ac8b4d93e"
      },
      "outputs": [
        {
          "output_type": "stream",
          "name": "stdout",
          "text": [
            "+--------------------+--------+\n",
            "|                Name|  Weight|\n",
            "+--------------------+--------+\n",
            "|Touring-3000 Yell...| 13607.7|\n",
            "|Touring-3000 Blue...| 13607.7|\n",
            "|Touring-3000 Blue...|13562.34|\n",
            "|Touring-3000 Yell...|13512.45|\n",
            "|Touring-3000 Blue...|13462.55|\n",
            "|Touring-3000 Yell...|13344.62|\n",
            "|Touring-3000 Yell...|13213.08|\n",
            "|Touring-3000 Blue...|13213.08|\n",
            "|Touring-3000 Yell...|13049.78|\n",
            "|Touring-3000 Blue...|13049.78|\n",
            "|Mountain-500 Silv...|13008.96|\n",
            "|Mountain-500 Blac...|13008.96|\n",
            "|Mountain-500 Silv...|12891.03|\n",
            "|Mountain-500 Blac...|12891.03|\n",
            "|Mountain-500 Silv...|12759.49|\n",
            "+--------------------+--------+\n",
            "\n"
          ]
        }
      ],
      "execution_count": 50
    },
    {
      "cell_type": "markdown",
      "source": [
        "## 2. Retrieve product details (name, color, size, product model ID) for products where the product model ID is 5"
      ],
      "metadata": {
        "application/vnd.databricks.v1+cell": {
          "title": "",
          "showTitle": false,
          "inputWidgets": {},
          "nuid": "6a364981-2a82-4a66-940d-b62a3c2eabad"
        },
        "id": "uJi9N2ui0xN4"
      }
    },
    {
      "cell_type": "markdown",
      "source": [
        "### Using RDD"
      ],
      "metadata": {
        "application/vnd.databricks.v1+cell": {
          "title": "",
          "showTitle": false,
          "inputWidgets": {},
          "nuid": "30dffc8a-4473-4429-83ba-4ce42cb63432"
        },
        "id": "V8QhZMX_0xN5"
      }
    },
    {
      "cell_type": "code",
      "source": [
        "(content.filter(lambda line:line.split(\"\\t\")[9]==\"5\")\n",
        " .map(lambda line: (line.split(\"\\t\")[1],line.split(\"\\t\")[3], line.split(\"\\t\")[6], line.split(\"\\t\")[9])).collect()\n",
        ")"
      ],
      "metadata": {
        "application/vnd.databricks.v1+cell": {
          "title": "",
          "showTitle": false,
          "inputWidgets": {},
          "nuid": "b7f96168-273f-4786-8231-ee60b60aae89"
        },
        "colab": {
          "base_uri": "https://localhost:8080/"
        },
        "id": "1CGQLd0k0xN5",
        "outputId": "ba99f2e3-c72d-4962-d961-6265e0bd82ab"
      },
      "outputs": [
        {
          "output_type": "execute_result",
          "data": {
            "text/plain": [
              "[('HL Mountain Frame - Silver, 42', 'Silver', '42', '5'),\n",
              " ('HL Mountain Frame - Silver, 44', 'Silver', '44', '5'),\n",
              " ('HL Mountain Frame - Silver, 48', 'Silver', '48', '5'),\n",
              " ('HL Mountain Frame - Silver, 46', 'Silver', '46', '5'),\n",
              " ('HL Mountain Frame - Black, 42', 'Black', '42', '5'),\n",
              " ('HL Mountain Frame - Black, 44', 'Black', '44', '5'),\n",
              " ('HL Mountain Frame - Black, 48', 'Black', '48', '5'),\n",
              " ('HL Mountain Frame - Black, 46', 'Black', '46', '5'),\n",
              " ('HL Mountain Frame - Black, 38', 'Black', '38', '5'),\n",
              " ('HL Mountain Frame - Silver, 38', 'Silver', '38', '5')]"
            ]
          },
          "metadata": {},
          "execution_count": 51
        }
      ],
      "execution_count": 51
    },
    {
      "cell_type": "markdown",
      "source": [
        "### Using Spark Dataframe"
      ],
      "metadata": {
        "application/vnd.databricks.v1+cell": {
          "title": "",
          "showTitle": false,
          "inputWidgets": {},
          "nuid": "4d8dabcd-bf51-4d10-96e6-71df3695d272"
        },
        "id": "f7q2ZdX60xN7"
      }
    },
    {
      "cell_type": "code",
      "source": [
        "df"
      ],
      "metadata": {
        "colab": {
          "base_uri": "https://localhost:8080/"
        },
        "id": "1EV9FUIt7est",
        "outputId": "35cb5833-2dde-46f7-8c18-38ae79213ba0"
      },
      "execution_count": 52,
      "outputs": [
        {
          "output_type": "execute_result",
          "data": {
            "text/plain": [
              "DataFrame[ProductID: string, Name: string, ProductNumber: string, Color: string, StandardCost: string, ListPrice: string, Size: string, Weight: string, ProductCategoryID: string, ProductModelID: string, SellStartDate: string, SellEndDate: string, DiscontinuedDate: string, ThumbNailPhoto: string, ThumbnailPhotoFileName: string, rowguid: string, ModifiedDate: string]"
            ]
          },
          "metadata": {},
          "execution_count": 52
        }
      ]
    },
    {
      "cell_type": "code",
      "source": [
        "df1 = df.select(df.Name, df.Color, df.Size, df.ProductModelID)\n",
        "df1_ = df1.filter(df.ProductModelID  == 5)\n",
        "df1_.show()"
      ],
      "metadata": {
        "application/vnd.databricks.v1+cell": {
          "title": "",
          "showTitle": false,
          "inputWidgets": {},
          "nuid": "cdf6ee7e-f5b8-410f-b26f-eaeaff7d1c30"
        },
        "colab": {
          "base_uri": "https://localhost:8080/"
        },
        "id": "pe9KRSsd0xN7",
        "outputId": "e82dada0-4900-4f7e-ef26-7e3519cda104"
      },
      "outputs": [
        {
          "output_type": "stream",
          "name": "stdout",
          "text": [
            "+--------------------+------+----+--------------+\n",
            "|                Name| Color|Size|ProductModelID|\n",
            "+--------------------+------+----+--------------+\n",
            "|HL Mountain Frame...|Silver|  42|             5|\n",
            "|HL Mountain Frame...|Silver|  44|             5|\n",
            "|HL Mountain Frame...|Silver|  48|             5|\n",
            "|HL Mountain Frame...|Silver|  46|             5|\n",
            "|HL Mountain Frame...| Black|  42|             5|\n",
            "|HL Mountain Frame...| Black|  44|             5|\n",
            "|HL Mountain Frame...| Black|  48|             5|\n",
            "|HL Mountain Frame...| Black|  46|             5|\n",
            "|HL Mountain Frame...| Black|  38|             5|\n",
            "|HL Mountain Frame...|Silver|  38|             5|\n",
            "+--------------------+------+----+--------------+\n",
            "\n"
          ]
        }
      ],
      "execution_count": 53
    },
    {
      "cell_type": "markdown",
      "source": [
        "### Using Spark SQL"
      ],
      "metadata": {
        "application/vnd.databricks.v1+cell": {
          "title": "",
          "showTitle": false,
          "inputWidgets": {},
          "nuid": "c961a430-7293-4f8d-b3f9-c4070c1e235e"
        },
        "id": "HpDlIMSy0xN8"
      }
    },
    {
      "cell_type": "code",
      "source": [
        "df1.createOrReplaceTempView('df_table')\n",
        "sqlContext.sql(\"Select Name, Color, Size, ProductModelID from df_table where ProductModelID == 5\").show()"
      ],
      "metadata": {
        "application/vnd.databricks.v1+cell": {
          "title": "",
          "showTitle": false,
          "inputWidgets": {},
          "nuid": "4332a9af-30c6-4395-b25e-c6147aad93dd"
        },
        "colab": {
          "base_uri": "https://localhost:8080/"
        },
        "id": "y_jeoMDn0xN8",
        "outputId": "3a32db5a-ae0f-4292-a213-cbce0c4ed107"
      },
      "outputs": [
        {
          "output_type": "stream",
          "name": "stdout",
          "text": [
            "+--------------------+------+----+--------------+\n",
            "|                Name| Color|Size|ProductModelID|\n",
            "+--------------------+------+----+--------------+\n",
            "|HL Mountain Frame...|Silver|  42|             5|\n",
            "|HL Mountain Frame...|Silver|  44|             5|\n",
            "|HL Mountain Frame...|Silver|  48|             5|\n",
            "|HL Mountain Frame...|Silver|  46|             5|\n",
            "|HL Mountain Frame...| Black|  42|             5|\n",
            "|HL Mountain Frame...| Black|  44|             5|\n",
            "|HL Mountain Frame...| Black|  48|             5|\n",
            "|HL Mountain Frame...| Black|  46|             5|\n",
            "|HL Mountain Frame...| Black|  38|             5|\n",
            "|HL Mountain Frame...|Silver|  38|             5|\n",
            "+--------------------+------+----+--------------+\n",
            "\n"
          ]
        }
      ],
      "execution_count": 54
    },
    {
      "cell_type": "markdown",
      "source": [
        "## 3. Retrieve the name and product number of the products that have a color of 'black', 'red', or 'white' and a size of 'S' or 'M'"
      ],
      "metadata": {
        "application/vnd.databricks.v1+cell": {
          "title": "",
          "showTitle": false,
          "inputWidgets": {},
          "nuid": "e3c9fc97-d853-479d-bbe2-134342535de9"
        },
        "id": "QAdijN9N0xN9"
      }
    },
    {
      "cell_type": "markdown",
      "source": [
        "### Using RDD"
      ],
      "metadata": {
        "application/vnd.databricks.v1+cell": {
          "title": "",
          "showTitle": false,
          "inputWidgets": {},
          "nuid": "31174ab6-690a-42de-becb-5452c1e902bf"
        },
        "id": "cSLbOK2P0xN9"
      }
    },
    {
      "cell_type": "code",
      "source": [
        "colors = [\"White\",\"Black\",\"Red\"]\n",
        "sizes = [\"S\",\"M\"]\n",
        "\n",
        "(content.filter(lambda line: line.split(\"\\t\")[6] in sizes)\n",
        ".filter(lambda line: line.split(\"\\t\")[3] in colors)\n",
        ".map(lambda line: (line.split(\"\\t\")[1],line.split(\"\\t\")[2], line.split(\"\\t\")[3],line.split(\"\\t\")[6]))\n",
        " .collect()\n",
        ")"
      ],
      "metadata": {
        "application/vnd.databricks.v1+cell": {
          "title": "",
          "showTitle": false,
          "inputWidgets": {},
          "nuid": "1b99ae62-4b55-4e7f-b27e-80f79909aeca"
        },
        "colab": {
          "base_uri": "https://localhost:8080/"
        },
        "id": "njVA13aQ0xN-",
        "outputId": "b683c676-7788-422e-b9ec-55c3bef45e29"
      },
      "outputs": [
        {
          "output_type": "execute_result",
          "data": {
            "text/plain": [
              "[('Mountain Bike Socks, M', 'SO-B909-M', 'White', 'M'),\n",
              " (\"Men's Sports Shorts, S\", 'SH-M897-S', 'Black', 'S'),\n",
              " (\"Men's Sports Shorts, M\", 'SH-M897-M', 'Black', 'M'),\n",
              " (\"Women's Tights, S\", 'TG-W091-S', 'Black', 'S'),\n",
              " (\"Women's Tights, M\", 'TG-W091-M', 'Black', 'M'),\n",
              " ('Half-Finger Gloves, S', 'GL-H102-S', 'Black', 'S'),\n",
              " ('Half-Finger Gloves, M', 'GL-H102-M', 'Black', 'M'),\n",
              " ('Full-Finger Gloves, S', 'GL-F110-S', 'Black', 'S'),\n",
              " ('Full-Finger Gloves, M', 'GL-F110-M', 'Black', 'M'),\n",
              " (\"Women's Mountain Shorts, S\", 'SH-W890-S', 'Black', 'S'),\n",
              " (\"Women's Mountain Shorts, M\", 'SH-W890-M', 'Black', 'M'),\n",
              " ('Racing Socks, M', 'SO-R809-M', 'White', 'M')]"
            ]
          },
          "metadata": {},
          "execution_count": 55
        }
      ],
      "execution_count": 55
    },
    {
      "cell_type": "markdown",
      "source": [
        "### Using Spark Dataframe"
      ],
      "metadata": {
        "application/vnd.databricks.v1+cell": {
          "title": "",
          "showTitle": false,
          "inputWidgets": {},
          "nuid": "895cbde1-b7ef-49fd-9c0f-696369f27128"
        },
        "id": "NGfl7bsF0xN-"
      }
    },
    {
      "cell_type": "code",
      "source": [
        "df1 = df.select(df.Name, df.ProductNumber, df.Color, df.Size, df.ProductModelID)\n",
        "df1_ = df1.filter( ((df.Color == 'Black') | (df.Color == 'White') | (df.Color == 'Red')) & ((df.Size == 'S') | (df.Size == 'M') ))\n",
        "df1__ = df1_.select(df.Name, df.ProductNumber)\n",
        "df1__.show()"
      ],
      "metadata": {
        "application/vnd.databricks.v1+cell": {
          "title": "",
          "showTitle": false,
          "inputWidgets": {},
          "nuid": "17a831f7-0cb4-43f2-8bbb-77b1e035ade8"
        },
        "colab": {
          "base_uri": "https://localhost:8080/"
        },
        "id": "z5-QK85l0xN_",
        "outputId": "c8e76e2f-2005-40d5-abc5-111535637fef"
      },
      "outputs": [
        {
          "output_type": "stream",
          "name": "stdout",
          "text": [
            "+--------------------+-------------+\n",
            "|                Name|ProductNumber|\n",
            "+--------------------+-------------+\n",
            "|Mountain Bike Soc...|    SO-B909-M|\n",
            "|Men's Sports Shor...|    SH-M897-S|\n",
            "|Men's Sports Shor...|    SH-M897-M|\n",
            "|   Women's Tights, S|    TG-W091-S|\n",
            "|   Women's Tights, M|    TG-W091-M|\n",
            "|Half-Finger Glove...|    GL-H102-S|\n",
            "|Half-Finger Glove...|    GL-H102-M|\n",
            "|Full-Finger Glove...|    GL-F110-S|\n",
            "|Full-Finger Glove...|    GL-F110-M|\n",
            "|Women's Mountain ...|    SH-W890-S|\n",
            "|Women's Mountain ...|    SH-W890-M|\n",
            "|     Racing Socks, M|    SO-R809-M|\n",
            "+--------------------+-------------+\n",
            "\n"
          ]
        }
      ],
      "execution_count": 58
    },
    {
      "cell_type": "markdown",
      "source": [
        "### Using Spark SQL"
      ],
      "metadata": {
        "application/vnd.databricks.v1+cell": {
          "title": "",
          "showTitle": false,
          "inputWidgets": {},
          "nuid": "15ba2bdf-70ae-4dcf-b00a-fdd80f352e96"
        },
        "id": "7QjlAlxF0xN_"
      }
    },
    {
      "cell_type": "code",
      "source": [
        "df.createOrReplaceTempView('df_table')\n",
        "sqlContext.sql('Select Name, ProductNumber from df_table where Color in (\"Black\", \"White\", \"Red\") and Size in (\"S\", \"M\")').show()"
      ],
      "metadata": {
        "application/vnd.databricks.v1+cell": {
          "title": "",
          "showTitle": false,
          "inputWidgets": {},
          "nuid": "da3463c2-f9b1-480a-ab44-c69af4275b91"
        },
        "colab": {
          "base_uri": "https://localhost:8080/"
        },
        "id": "B3DSh-lh0xOA",
        "outputId": "e5a4ec61-7099-47e1-97e1-f45132804226"
      },
      "outputs": [
        {
          "output_type": "stream",
          "name": "stdout",
          "text": [
            "+--------------------+-------------+\n",
            "|                Name|ProductNumber|\n",
            "+--------------------+-------------+\n",
            "|Mountain Bike Soc...|    SO-B909-M|\n",
            "|Men's Sports Shor...|    SH-M897-S|\n",
            "|Men's Sports Shor...|    SH-M897-M|\n",
            "|   Women's Tights, S|    TG-W091-S|\n",
            "|   Women's Tights, M|    TG-W091-M|\n",
            "|Half-Finger Glove...|    GL-H102-S|\n",
            "|Half-Finger Glove...|    GL-H102-M|\n",
            "|Full-Finger Glove...|    GL-F110-S|\n",
            "|Full-Finger Glove...|    GL-F110-M|\n",
            "|Women's Mountain ...|    SH-W890-S|\n",
            "|Women's Mountain ...|    SH-W890-M|\n",
            "|     Racing Socks, M|    SO-R809-M|\n",
            "+--------------------+-------------+\n",
            "\n"
          ]
        }
      ],
      "execution_count": 60
    },
    {
      "cell_type": "markdown",
      "source": [
        "## 4. Retrieve the product name, product number, color and list price of products whose product number begins with 'BK-'. Retrieve only 15 records and Sort the price in descending order"
      ],
      "metadata": {
        "application/vnd.databricks.v1+cell": {
          "title": "",
          "showTitle": false,
          "inputWidgets": {},
          "nuid": "3280d1e9-90e3-4a1b-9ceb-6283c93680a2"
        },
        "id": "5Elzt3wa0xOA"
      }
    },
    {
      "cell_type": "markdown",
      "source": [
        "### Using RDD"
      ],
      "metadata": {
        "application/vnd.databricks.v1+cell": {
          "title": "",
          "showTitle": false,
          "inputWidgets": {},
          "nuid": "9f7884c4-f177-4bc9-ab8a-8512fdbc8c4f"
        },
        "id": "cajNooFa0xOQ"
      }
    },
    {
      "cell_type": "code",
      "source": [
        "(content.filter(lambda line: \"BK\" in line.split(\"\\t\")[2])\n",
        " .map(lambda line: (line.split(\"\\t\")[1], line.split(\"\\t\")[2], line.split(\"\\t\")[3], float(line.split(\"\\t\")[5])))\n",
        ".takeOrdered(15, lambda x: -x[3]))"
      ],
      "metadata": {
        "application/vnd.databricks.v1+cell": {
          "title": "",
          "showTitle": false,
          "inputWidgets": {},
          "nuid": "2f57b2b8-877f-4cd1-9a22-d0f6e450a175"
        },
        "colab": {
          "base_uri": "https://localhost:8080/"
        },
        "id": "Ah7w0Avw0xOR",
        "outputId": "c305914c-b680-44cf-bff7-2b8ba58ae9ee"
      },
      "outputs": [
        {
          "output_type": "execute_result",
          "data": {
            "text/plain": [
              "[('Road-150 Red, 62', 'BK-R93R-62', 'Red', 3578.27),\n",
              " ('Road-150 Red, 44', 'BK-R93R-44', 'Red', 3578.27),\n",
              " ('Road-150 Red, 48', 'BK-R93R-48', 'Red', 3578.27),\n",
              " ('Road-150 Red, 52', 'BK-R93R-52', 'Red', 3578.27),\n",
              " ('Road-150 Red, 56', 'BK-R93R-56', 'Red', 3578.27),\n",
              " ('Mountain-100 Silver, 38', 'BK-M82S-38', 'Silver', 3399.99),\n",
              " ('Mountain-100 Silver, 42', 'BK-M82S-42', 'Silver', 3399.99),\n",
              " ('Mountain-100 Silver, 44', 'BK-M82S-44', 'Silver', 3399.99),\n",
              " ('Mountain-100 Silver, 48', 'BK-M82S-48', 'Silver', 3399.99),\n",
              " ('Mountain-100 Black, 38', 'BK-M82B-38', 'Black', 3374.99),\n",
              " ('Mountain-100 Black, 42', 'BK-M82B-42', 'Black', 3374.99),\n",
              " ('Mountain-100 Black, 44', 'BK-M82B-44', 'Black', 3374.99),\n",
              " ('Mountain-100 Black, 48', 'BK-M82B-48', 'Black', 3374.99),\n",
              " ('Road-250 Red, 44', 'BK-R89R-44', 'Red', 2443.35),\n",
              " ('Road-250 Red, 48', 'BK-R89R-48', 'Red', 2443.35)]"
            ]
          },
          "metadata": {},
          "execution_count": 61
        }
      ],
      "execution_count": 61
    },
    {
      "cell_type": "markdown",
      "source": [
        "### Using Spark Dataframe"
      ],
      "metadata": {
        "application/vnd.databricks.v1+cell": {
          "title": "",
          "showTitle": false,
          "inputWidgets": {},
          "nuid": "7215148c-38cc-4abf-a1a7-2cdaf49bd379"
        },
        "id": "WLd4HPW80xOS"
      }
    },
    {
      "cell_type": "code",
      "source": [
        "df"
      ],
      "metadata": {
        "colab": {
          "base_uri": "https://localhost:8080/"
        },
        "id": "gK8pPYp8Jyej",
        "outputId": "91c11008-0285-4412-f5f9-136f12be9aef"
      },
      "execution_count": 62,
      "outputs": [
        {
          "output_type": "execute_result",
          "data": {
            "text/plain": [
              "DataFrame[ProductID: string, Name: string, ProductNumber: string, Color: string, StandardCost: string, ListPrice: string, Size: string, Weight: string, ProductCategoryID: string, ProductModelID: string, SellStartDate: string, SellEndDate: string, DiscontinuedDate: string, ThumbNailPhoto: string, ThumbnailPhotoFileName: string, rowguid: string, ModifiedDate: string]"
            ]
          },
          "metadata": {},
          "execution_count": 62
        }
      ]
    },
    {
      "cell_type": "code",
      "source": [
        "df1 = df.select(df.Name, df.ProductNumber, df.Color, df.ListPrice.cast('float'))\n",
        "df1_ = df1.sort(df1.ListPrice, ascending = False)\n",
        "df1__ = df1_.filter(df1_['ProductNumber'].startswith('BK-'))\n",
        "df1__.show(15)\n"
      ],
      "metadata": {
        "application/vnd.databricks.v1+cell": {
          "title": "",
          "showTitle": false,
          "inputWidgets": {},
          "nuid": "0c33ad13-fd2c-4b55-85cc-091d3a453573"
        },
        "colab": {
          "base_uri": "https://localhost:8080/"
        },
        "id": "q_ByST4B0xOS",
        "outputId": "e8a2485b-6a88-4601-bfa6-ab150cec8b01"
      },
      "outputs": [
        {
          "output_type": "stream",
          "name": "stdout",
          "text": [
            "+--------------------+-------------+------+---------+\n",
            "|                Name|ProductNumber| Color|ListPrice|\n",
            "+--------------------+-------------+------+---------+\n",
            "|    Road-150 Red, 62|   BK-R93R-62|   Red|  3578.27|\n",
            "|    Road-150 Red, 44|   BK-R93R-44|   Red|  3578.27|\n",
            "|    Road-150 Red, 48|   BK-R93R-48|   Red|  3578.27|\n",
            "|    Road-150 Red, 52|   BK-R93R-52|   Red|  3578.27|\n",
            "|    Road-150 Red, 56|   BK-R93R-56|   Red|  3578.27|\n",
            "|Mountain-100 Silv...|   BK-M82S-44|Silver|  3399.99|\n",
            "|Mountain-100 Silv...|   BK-M82S-48|Silver|  3399.99|\n",
            "|Mountain-100 Silv...|   BK-M82S-38|Silver|  3399.99|\n",
            "|Mountain-100 Silv...|   BK-M82S-42|Silver|  3399.99|\n",
            "|Mountain-100 Blac...|   BK-M82B-38| Black|  3374.99|\n",
            "|Mountain-100 Blac...|   BK-M82B-42| Black|  3374.99|\n",
            "|Mountain-100 Blac...|   BK-M82B-44| Black|  3374.99|\n",
            "|Mountain-100 Blac...|   BK-M82B-48| Black|  3374.99|\n",
            "|    Road-250 Red, 44|   BK-R89R-44|   Red|  2443.35|\n",
            "|    Road-250 Red, 48|   BK-R89R-48|   Red|  2443.35|\n",
            "+--------------------+-------------+------+---------+\n",
            "only showing top 15 rows\n",
            "\n"
          ]
        }
      ],
      "execution_count": 99
    },
    {
      "cell_type": "markdown",
      "source": [
        "### Using Spark SQL"
      ],
      "metadata": {
        "application/vnd.databricks.v1+cell": {
          "title": "",
          "showTitle": false,
          "inputWidgets": {},
          "nuid": "6193a402-fe07-4770-92fa-51e26816d3b7"
        },
        "id": "b2pA6iLF0xOT"
      }
    },
    {
      "cell_type": "code",
      "source": [
        "df.createOrReplaceTempView('df_table')\n",
        "sqlContext.sql(\"Select Name, ProductNumber, Color, ListPrice from df_table WHERE ProductNumber LIKE 'BK-%' ORDER BY ListPrice DESC\").show(15)"
      ],
      "metadata": {
        "application/vnd.databricks.v1+cell": {
          "title": "",
          "showTitle": false,
          "inputWidgets": {},
          "nuid": "820deb27-888e-45b3-8ec2-e61a3dc1a14b"
        },
        "colab": {
          "base_uri": "https://localhost:8080/"
        },
        "id": "QA0zng930xOT",
        "outputId": "c457ede8-d66b-42e2-aa82-87d973a7d9de"
      },
      "outputs": [
        {
          "output_type": "stream",
          "name": "stdout",
          "text": [
            "+--------------------+-------------+------+---------+\n",
            "|                Name|ProductNumber| Color|ListPrice|\n",
            "+--------------------+-------------+------+---------+\n",
            "|  Road-650 Black, 58|   BK-R50B-58| Black|   782.99|\n",
            "|  Road-650 Black, 62|   BK-R50B-62| Black|   782.99|\n",
            "|    Road-650 Red, 58|   BK-R50R-58|   Red|   782.99|\n",
            "|    Road-650 Red, 60|   BK-R50R-60|   Red|   782.99|\n",
            "|    Road-650 Red, 62|   BK-R50R-62|   Red|   782.99|\n",
            "|    Road-650 Red, 44|   BK-R50R-44|   Red|   782.99|\n",
            "|    Road-650 Red, 48|   BK-R50R-48|   Red|   782.99|\n",
            "|    Road-650 Red, 52|   BK-R50R-52|   Red|   782.99|\n",
            "|  Road-650 Black, 60|   BK-R50B-60| Black|   782.99|\n",
            "|  Road-650 Black, 44|   BK-R50B-44| Black|   782.99|\n",
            "|  Road-650 Black, 48|   BK-R50B-48| Black|   782.99|\n",
            "|  Road-650 Black, 52|   BK-R50B-52| Black|   782.99|\n",
            "|Mountain-400-W Si...|   BK-M38S-38|Silver|   769.49|\n",
            "|Mountain-400-W Si...|   BK-M38S-40|Silver|   769.49|\n",
            "|Mountain-400-W Si...|   BK-M38S-42|Silver|   769.49|\n",
            "+--------------------+-------------+------+---------+\n",
            "only showing top 15 rows\n",
            "\n"
          ]
        }
      ],
      "execution_count": 100
    },
    {
      "cell_type": "markdown",
      "source": [
        "## 5. Visualize Average List Price per Color and Average List Price per Size. Discuss/Explain your results."
      ],
      "metadata": {
        "application/vnd.databricks.v1+cell": {
          "title": "",
          "showTitle": false,
          "inputWidgets": {},
          "nuid": "cec197c9-eb1f-4b42-976d-45c12a0c2cc3"
        },
        "id": "Kg_UAac70xOU"
      }
    },
    {
      "cell_type": "code",
      "source": [
        "import pandas as pd\n",
        "import matplotlib\n",
        "import matplotlib.pyplot as plt\n",
        "from pyspark.sql import functions as F\n",
        "import pandas as pd\n",
        "\n",
        "%matplotlib inline"
      ],
      "metadata": {
        "application/vnd.databricks.v1+cell": {
          "title": "",
          "showTitle": false,
          "inputWidgets": {},
          "nuid": "7214bde0-02aa-4fc6-b124-06f5a22bc5e5"
        },
        "id": "5zsfFVng0xOU"
      },
      "outputs": [],
      "execution_count": 84
    },
    {
      "cell_type": "code",
      "source": [
        "df1 = df.select(df.Name,df.ProductNumber, df.Color,df.Size,df.ListPrice.cast(\"float\"))\n",
        "df2= df1.groupBy(df.Color).agg({\"ListPrice\":\"average\"}).collect()\n",
        "x=[]\n",
        "y =[]\n",
        "for i in df2:\n",
        "  if i[\"Color\"]!= \"NULL\":\n",
        "    x.append(i[\"Color\"])\n",
        "    y.append(i[\"avg(ListPrice)\"])\n",
        "\n",
        "plt.bar(x, y)\n",
        "plt.title('Average List Price by Color')\n",
        "plt.xlabel('Color')\n",
        "plt.ylabel('Average List Price')\n",
        "plt.show()\n",
        "\n"
      ],
      "metadata": {
        "application/vnd.databricks.v1+cell": {
          "title": "",
          "showTitle": false,
          "inputWidgets": {},
          "nuid": "ad7e9cf5-f424-4b09-af34-df53c021f43a"
        },
        "colab": {
          "base_uri": "https://localhost:8080/",
          "height": 472
        },
        "id": "HwRwqdTh0xOV",
        "outputId": "d9400803-c9f9-48e6-effa-9d9de862fce5"
      },
      "outputs": [
        {
          "output_type": "display_data",
          "data": {
            "text/plain": [
              "<Figure size 640x480 with 1 Axes>"
            ],
            "image/png": "[encoded data removed]"
          },
          "metadata": {}
        }
      ],
      "execution_count": 83
    },
    {
      "cell_type": "markdown",
      "source": [
        "Analysis: From the results we can see that colors like Multi, White, Silver/Black, Grey seems to have lower and similar price, while colors like silver, blue, black, yellow and red have higher list price and they are similar to. From this we could conclude that bright colors cost more like red that has the highest price. Dull and universal colors have lower prices."
      ],
      "metadata": {
        "id": "JBr3J45kRAcT"
      }
    },
    {
      "cell_type": "code",
      "source": [
        "\n",
        "df2= df1.groupBy(df.Size).agg({\"ListPrice\":\"average\"}).collect()\n",
        "x=[]\n",
        "y =[]\n",
        "for i in df2:\n",
        "  if i[\"Size\"]!= \"NULL\":\n",
        "    x.append(i[\"Size\"])\n",
        "    y.append(i[\"avg(ListPrice)\"])\n",
        "\n",
        "plt.bar(x, y)\n",
        "plt.title('Average List Price by Size')\n",
        "plt.xlabel('Size')\n",
        "plt.ylabel('Average List Price')\n",
        "plt.show()"
      ],
      "metadata": {
        "colab": {
          "base_uri": "https://localhost:8080/",
          "height": 472
        },
        "id": "F4ZaytphQTgT",
        "outputId": "8d6f6fd5-d5a2-4f11-aad1-3519114e08d9"
      },
      "execution_count": 85,
      "outputs": [
        {
          "output_type": "display_data",
          "data": {
            "text/plain": [
              "<Figure size 640x480 with 1 Axes>"
            ],
            "image/png": "[encoded data removed]"
          },
          "metadata": {}
        }
      ]
    },
    {
      "cell_type": "markdown",
      "source": [
        "Analysis: If we look at the results, the average list price does not seemed to be effected by the size. Some of the fixed sizes likes XL, M, L, S, and 70 seemed to have lower prices given that they are being made in bulk. Other sizes seemed to have average prices that are similar. 56 seems to have the most highest price. To conclude the explanation we can say that prices increases when we need to customize to different sizes. Opting for fixed sizes results in less price."
      ],
      "metadata": {
        "id": "rPfrpEbwQbQW"
      }
    },
    {
      "cell_type": "markdown",
      "source": [
        "## 5. Visualize Total Count per Size. Discuss/Explain your results."
      ],
      "metadata": {
        "application/vnd.databricks.v1+cell": {
          "title": "",
          "showTitle": false,
          "inputWidgets": {},
          "nuid": "3c3731a0-f63d-46fe-87de-416efca7b8ae"
        },
        "id": "j0lhvY1h0xOV"
      }
    },
    {
      "cell_type": "code",
      "source": [
        "df2= df1.groupBy(df.Size).agg({\"ListPrice\":\"count\"}).collect()\n",
        "x=[]\n",
        "y =[]\n",
        "for i in df2:\n",
        "  if i[\"Size\"]!= \"NULL\":\n",
        "    x.append(i[\"Size\"])\n",
        "    y.append(i[\"count(ListPrice)\"])\n",
        "\n",
        "plt.bar(x, y)\n",
        "plt.title('Count per Size')\n",
        "plt.xlabel('Size')\n",
        "plt.ylabel('Count')\n",
        "plt.show()"
      ],
      "metadata": {
        "application/vnd.databricks.v1+cell": {
          "title": "",
          "showTitle": false,
          "inputWidgets": {},
          "nuid": "7d9e8ea0-b441-41c5-be1e-7b93801de3f5"
        },
        "colab": {
          "base_uri": "https://localhost:8080/",
          "height": 472
        },
        "id": "GPxiLM0Q0xOW",
        "outputId": "70a65385-93c3-4517-c98f-d58adb137c2b"
      },
      "outputs": [
        {
          "output_type": "display_data",
          "data": {
            "text/plain": [
              "<Figure size 640x480 with 1 Axes>"
            ],
            "image/png": "[encoded data removed]"
          },
          "metadata": {}
        }
      ],
      "execution_count": 87
    },
    {
      "cell_type": "markdown",
      "source": [
        "Analysis: The count is uniform for most of the sizes. However 44, and 48 sizes has the most count as it is a popular size, while 56, 70, and XL has the lowest count as it is less popular."
      ],
      "metadata": {
        "id": "ShQ5NvhwRjVS"
      }
    },
    {
      "cell_type": "markdown",
      "source": [
        "# Using Machine Learning Library (For Practice)"
      ],
      "metadata": {
        "application/vnd.databricks.v1+cell": {
          "title": "",
          "showTitle": false,
          "inputWidgets": {},
          "nuid": "65b7c02f-106d-4dc6-a681-2708a2b3de5a"
        },
        "id": "gMG8ln0_0xOW"
      }
    },
    {
      "cell_type": "code",
      "source": [
        "dfall = df.select(df.Weight.cast(\"float\"), df.Size.cast(\"float\"), df.ListPrice.cast(\"float\"))\n",
        "dfall.show(5, truncate=False)"
      ],
      "metadata": {
        "application/vnd.databricks.v1+cell": {
          "title": "",
          "showTitle": false,
          "inputWidgets": {},
          "nuid": "d7350414-127d-4e37-8aa0-cdc43f8f0bd4"
        },
        "colab": {
          "base_uri": "https://localhost:8080/"
        },
        "id": "ZwLniXFs0xOX",
        "outputId": "489827b7-ba9d-4353-ee80-3f7fc8010920"
      },
      "outputs": [
        {
          "output_type": "stream",
          "name": "stdout",
          "text": [
            "+-------+----+---------+\n",
            "|Weight |Size|ListPrice|\n",
            "+-------+----+---------+\n",
            "|1016.04|58.0|1431.5   |\n",
            "|1016.04|58.0|1431.5   |\n",
            "|NULL   |NULL|34.99    |\n",
            "|NULL   |NULL|34.99    |\n",
            "|NULL   |NULL|9.5      |\n",
            "+-------+----+---------+\n",
            "only showing top 5 rows\n",
            "\n"
          ]
        }
      ],
      "execution_count": 88
    },
    {
      "cell_type": "code",
      "source": [
        "dfall = dfall.na.drop(\"any\")"
      ],
      "metadata": {
        "application/vnd.databricks.v1+cell": {
          "title": "",
          "showTitle": false,
          "inputWidgets": {},
          "nuid": "c11425a9-aacd-43d0-882c-eb0a0002c6cf"
        },
        "id": "cNEP-A0U0xOY"
      },
      "outputs": [],
      "execution_count": 89
    },
    {
      "cell_type": "code",
      "source": [
        "feature_columns = dfall.columns[:-1] # here we omit the final column for prediction\n",
        "from pyspark.ml.feature import VectorAssembler\n",
        "assembler = VectorAssembler(inputCols=feature_columns,outputCol=\"features\")"
      ],
      "metadata": {
        "application/vnd.databricks.v1+cell": {
          "title": "",
          "showTitle": false,
          "inputWidgets": {},
          "nuid": "653da381-78ec-470d-8994-825d252cea19"
        },
        "id": "wuHMTIMx0xOZ"
      },
      "outputs": [],
      "execution_count": 90
    },
    {
      "cell_type": "code",
      "source": [
        "data_2 = assembler.transform(dfall)"
      ],
      "metadata": {
        "application/vnd.databricks.v1+cell": {
          "title": "",
          "showTitle": false,
          "inputWidgets": {},
          "nuid": "e2c5c2ab-8358-49e4-bd21-dc252e5848a5"
        },
        "id": "utBTJ4n60xOZ"
      },
      "outputs": [],
      "execution_count": 91
    },
    {
      "cell_type": "code",
      "source": [
        "data_2.show()"
      ],
      "metadata": {
        "application/vnd.databricks.v1+cell": {
          "title": "",
          "showTitle": false,
          "inputWidgets": {},
          "nuid": "05b1b005-27ba-4f4d-bfac-473869a3aee2"
        },
        "colab": {
          "base_uri": "https://localhost:8080/"
        },
        "id": "7oC7YwzC0xOa",
        "outputId": "138c1062-50be-436a-8cf3-3905699f60c3"
      },
      "outputs": [
        {
          "output_type": "stream",
          "name": "stdout",
          "text": [
            "+-------+----+---------+--------------------+\n",
            "| Weight|Size|ListPrice|            features|\n",
            "+-------+----+---------+--------------------+\n",
            "|1016.04|58.0|   1431.5|[1016.03997802734...|\n",
            "|1016.04|58.0|   1431.5|[1016.03997802734...|\n",
            "|1043.26|62.0|   1431.5|[1043.26000976562...|\n",
            "| 961.61|44.0|   1431.5|[961.609985351562...|\n",
            "| 979.75|48.0|   1431.5|       [979.75,48.0]|\n",
            "|  997.9|52.0|   1431.5|[997.900024414062...|\n",
            "|1016.04|56.0|   1431.5|[1016.03997802734...|\n",
            "|1115.83|58.0|   337.22|[1115.82995605468...|\n",
            "| 1124.9|60.0|   337.22|[1124.90002441406...|\n",
            "|1133.98|62.0|   337.22|[1133.97998046875...|\n",
            "|1052.33|44.0|   337.22|[1052.32995605468...|\n",
            "|1070.47|48.0|   337.22|[1070.46997070312...|\n",
            "|1088.62|52.0|   337.22|[1088.61999511718...|\n",
            "|1115.83|58.0|   337.22|[1115.82995605468...|\n",
            "| 1124.9|60.0|   337.22|[1124.90002441406...|\n",
            "|1133.98|62.0|   337.22|[1133.97998046875...|\n",
            "|1006.97|44.0|   594.83|[1006.96997070312...|\n",
            "|1025.11|48.0|   594.83|[1025.10998535156...|\n",
            "|1043.26|52.0|   594.83|[1043.26000976562...|\n",
            "|1070.47|58.0|   594.83|[1070.46997070312...|\n",
            "+-------+----+---------+--------------------+\n",
            "only showing top 20 rows\n",
            "\n"
          ]
        }
      ],
      "execution_count": 92
    },
    {
      "cell_type": "code",
      "source": [
        "from pyspark.ml.regression import LinearRegression"
      ],
      "metadata": {
        "application/vnd.databricks.v1+cell": {
          "title": "",
          "showTitle": false,
          "inputWidgets": {},
          "nuid": "ceb6abc9-573b-4ae2-8e03-21a79639805a"
        },
        "id": "LcTzFRpp0xOb"
      },
      "outputs": [],
      "execution_count": 93
    },
    {
      "cell_type": "code",
      "source": [
        "algo = LinearRegression(featuresCol=\"features\", labelCol=\"ListPrice\")"
      ],
      "metadata": {
        "application/vnd.databricks.v1+cell": {
          "title": "",
          "showTitle": false,
          "inputWidgets": {},
          "nuid": "950d1b20-4331-4510-b9cd-db2819cb3474"
        },
        "id": "5ln11ZL_0xOb"
      },
      "outputs": [],
      "execution_count": 94
    },
    {
      "cell_type": "code",
      "source": [
        "model = algo.fit(data_2)"
      ],
      "metadata": {
        "application/vnd.databricks.v1+cell": {
          "title": "",
          "showTitle": false,
          "inputWidgets": {},
          "nuid": "bb9182a8-78da-4250-8303-26a222676e1d"
        },
        "id": "gfpEaYzj0xOc"
      },
      "outputs": [],
      "execution_count": 95
    },
    {
      "cell_type": "code",
      "source": [
        "evaluation_summary = model.evaluate(data_2)"
      ],
      "metadata": {
        "application/vnd.databricks.v1+cell": {
          "title": "",
          "showTitle": false,
          "inputWidgets": {},
          "nuid": "373a7a87-ed11-4d0f-b98d-98ce2889907c"
        },
        "id": "M5vmynUo0xOc"
      },
      "outputs": [],
      "execution_count": 96
    },
    {
      "cell_type": "code",
      "source": [
        "evaluation_summary.rootMeanSquaredError"
      ],
      "metadata": {
        "application/vnd.databricks.v1+cell": {
          "title": "",
          "showTitle": false,
          "inputWidgets": {},
          "nuid": "1548b3b3-f7f4-48f6-ad73-2b070f7595da"
        },
        "colab": {
          "base_uri": "https://localhost:8080/"
        },
        "id": "0PB-mI4D0xOc",
        "outputId": "dd0b5a75-ef34-4635-d0b6-0e3aab92ec4c"
      },
      "outputs": [
        {
          "output_type": "execute_result",
          "data": {
            "text/plain": [
              "862.8415344138203"
            ]
          },
          "metadata": {},
          "execution_count": 97
        }
      ],
      "execution_count": 97
    },
    {
      "cell_type": "code",
      "source": [
        "evaluation_summary.r2"
      ],
      "metadata": {
        "application/vnd.databricks.v1+cell": {
          "title": "",
          "showTitle": false,
          "inputWidgets": {},
          "nuid": "5bb20dc4-259c-4de1-bb3c-ea477a692d17"
        },
        "colab": {
          "base_uri": "https://localhost:8080/"
        },
        "id": "G65wyC2W0xOd",
        "outputId": "b75ed1e7-d49b-4876-f3dc-e8308635ae56"
      },
      "outputs": [
        {
          "output_type": "execute_result",
          "data": {
            "text/plain": [
              "0.10019389704278814"
            ]
          },
          "metadata": {},
          "execution_count": 98
        }
      ],
      "execution_count": 98
    }
  ],
  "metadata": {
    "kernelspec": {
      "display_name": "Python 2",
      "language": "python",
      "name": "python2"
    },
    "language_info": {
      "mimetype": "text/x-python",
      "name": "python",
      "pygments_lexer": "ipython2",
      "codemirror_mode": {
        "name": "ipython",
        "version": 2
      },
      "version": "2.7.12",
      "nbconvert_exporter": "python",
      "file_extension": ".py"
    },
    "application/vnd.databricks.v1+notebook": {
      "notebookName": "HW14-Spark",
      "dashboards": [],
      "notebookMetadata": {
        "pythonIndentUnit": 2
      },
      "language": "python",
      "widgets": {},
      "notebookOrigID": 4469316145888709
    },
    "colab": {
      "provenance": []
    }
  },
  "nbformat": 4,
  "nbformat_minor": 0
}